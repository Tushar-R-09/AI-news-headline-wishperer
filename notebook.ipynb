{
 "cells": [
  {
   "cell_type": "code",
   "execution_count": 31,
   "id": "269f8e88",
   "metadata": {},
   "outputs": [],
   "source": [
    "import smtplib\n",
    "from email.mime.text import MIMEText\n",
    "from newspaper import Article\n",
    "import torch\n",
    "from transformers import AutoTokenizer, AutoModelForSeq2SeqLM, pipeline\n",
    "import re\n",
    "from dotenv import load_dotenv\n",
    "import os"
   ]
  },
  {
   "cell_type": "code",
   "execution_count": 32,
   "id": "27480a4b",
   "metadata": {},
   "outputs": [],
   "source": [
    "load_dotenv()  # Load variables from .env\n",
    "\n",
    "sender_email = os.getenv(\"sender_email\")\n",
    "sender_password = os.getenv(\"sender_password\")"
   ]
  },
  {
   "cell_type": "code",
   "execution_count": 33,
   "id": "031ca65f",
   "metadata": {},
   "outputs": [],
   "source": [
    "device = torch.device(\"mps\" if torch.backends.mps.is_available() else \"cpu\") #For Apple Silicon Macs\n",
    "#device = torch.device(\"cuda\" if torch.cuda.is_available() else \"cpu\") # For windows users"
   ]
  },
  {
   "cell_type": "code",
   "execution_count": 34,
   "id": "ffaadaa2",
   "metadata": {},
   "outputs": [],
   "source": [
    "tokenizer = AutoTokenizer.from_pretrained(\"facebook/bart-large-cnn\")\n",
    "model = AutoModelForSeq2SeqLM.from_pretrained(\"facebook/bart-large-cnn\")\n",
    "model = model.to(device)"
   ]
  },
  {
   "cell_type": "code",
   "execution_count": 35,
   "id": "2c2eb3da",
   "metadata": {},
   "outputs": [
    {
     "name": "stderr",
     "output_type": "stream",
     "text": [
      "Device set to use mps:0\n"
     ]
    }
   ],
   "source": [
    "summarizer = pipeline(\"summarization\", model=model, tokenizer=tokenizer, device=-1)"
   ]
  },
  {
   "cell_type": "code",
   "execution_count": null,
   "id": "81019bfa",
   "metadata": {},
   "outputs": [],
   "source": [
    "# Function to clean text\n",
    "def clean_text(text):\n",
    "    text = re.sub(r'\\s+', ' ', text).strip() #Removes the white space\n",
    "    return text"
   ]
  },
  {
   "cell_type": "code",
   "execution_count": 37,
   "id": "207da907",
   "metadata": {},
   "outputs": [],
   "source": [
    "def get_summary(url):\n",
    "    try:\n",
    "        article = Article(url)\n",
    "        article.download()\n",
    "        article.parse()\n",
    "        text = article.text\n",
    "        if not text:\n",
    "            return \"Error: Could not extract text from the article.\"\n",
    "        \n",
    "        # Clean and limit text length for summarization\n",
    "        text = clean_text(text)\n",
    "        max_input_length = 1024  # BART's max input length\n",
    "        text = text[:max_input_length]\n",
    "        \n",
    "        # Summarize the text\n",
    "        summary = summarizer(text, max_length=150, min_length=50, do_sample=False)[0]['summary_text']\n",
    "        return summary\n",
    "    except Exception as e:\n",
    "        return f\"Error processing article: {str(e)}\""
   ]
  },
  {
   "cell_type": "code",
   "execution_count": 38,
   "id": "c2192b72",
   "metadata": {},
   "outputs": [],
   "source": [
    "# Function to send email\n",
    "def send_email(summary, recipient_email, sender_email, sender_password):\n",
    "    try:\n",
    "        msg = MIMEText(summary)\n",
    "        msg['Subject'] = 'Article Summary'\n",
    "        msg['From'] = sender_email\n",
    "        msg['To'] = recipient_email\n",
    "\n",
    "        with smtplib.SMTP('smtp.gmail.com', 587) as server:\n",
    "            server.starttls()\n",
    "            server.login(sender_email, sender_password)\n",
    "            server.sendmail(sender_email, recipient_email, msg.as_string())\n",
    "        return True\n",
    "    except Exception as e:\n",
    "        return f\"Error sending email: {str(e)}\""
   ]
  },
  {
   "cell_type": "code",
   "execution_count": 41,
   "id": "9b7b6e9e",
   "metadata": {},
   "outputs": [],
   "source": [
    "# Function to send email\n",
    "def send_email(summary, recipient_email, sender_email, sender_password):\n",
    "    try:\n",
    "        msg = MIMEText(summary)\n",
    "        msg['Subject'] = 'Article Summary'\n",
    "        msg['From'] = sender_email\n",
    "        msg['To'] = recipient_email\n",
    "\n",
    "        with smtplib.SMTP('smtp.gmail.com', 587) as server:\n",
    "            server.starttls()\n",
    "            server.login(sender_email, sender_password)\n",
    "            server.sendmail(sender_email, recipient_email, msg.as_string())\n",
    "        return True\n",
    "    except Exception as e:\n",
    "        return f\"Error sending email: {str(e)}\""
   ]
  },
  {
   "cell_type": "code",
   "execution_count": 39,
   "id": "957a50a2",
   "metadata": {},
   "outputs": [],
   "source": [
    "url = \"https://timesofindia.indiatimes.com/city/srinagar/jaw-broken-spine-injured-spicejet-staff-attacked-by-passenger-at-srinagar-airport/articleshow/123073510.cms\"\n",
    "summary = get_summary(url)"
   ]
  },
  {
   "cell_type": "code",
   "execution_count": null,
   "id": "b747aeec",
   "metadata": {},
   "outputs": [
    {
     "data": {
      "text/plain": [
       "\"A senior Army official allegedly 'grievously assaulted' four SpiceJet employees at Srinagar Airport on July 26, 2025. The airline says its staff members ‘suffered a spinal fracture and serious jaw injuries after being attacked with punches, repeated kicks and a queue stand’\""
      ]
     },
     "execution_count": 40,
     "metadata": {},
     "output_type": "execute_result"
    }
   ],
   "source": [
    "email = \"tusharrohilla70@gmail.com\"\n",
    "email_result = send_email(summary, email, sender_email, sender_password)"
   ]
  },
  {
   "cell_type": "code",
   "execution_count": null,
   "id": "8e3bf614",
   "metadata": {},
   "outputs": [],
   "source": []
  }
 ],
 "metadata": {
  "kernelspec": {
   "display_name": "AI_Web_search_agent",
   "language": "python",
   "name": "python3"
  },
  "language_info": {
   "codemirror_mode": {
    "name": "ipython",
    "version": 3
   },
   "file_extension": ".py",
   "mimetype": "text/x-python",
   "name": "python",
   "nbconvert_exporter": "python",
   "pygments_lexer": "ipython3",
   "version": "3.12.11"
  }
 },
 "nbformat": 4,
 "nbformat_minor": 5
}
