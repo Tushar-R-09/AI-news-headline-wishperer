{
 "cells": [
  {
   "cell_type": "code",
   "execution_count": 9,
   "id": "269f8e88",
   "metadata": {},
   "outputs": [
    {
     "name": "stderr",
     "output_type": "stream",
     "text": [
      "/Users/tusharrohilla/Desktop/AI-news-headline-wishperer/.venv/lib/python3.12/site-packages/tqdm/auto.py:21: TqdmWarning: IProgress not found. Please update jupyter and ipywidgets. See https://ipywidgets.readthedocs.io/en/stable/user_install.html\n",
      "  from .autonotebook import tqdm as notebook_tqdm\n"
     ]
    }
   ],
   "source": [
    "import smtplib\n",
    "from email.mime.text import MIMEText\n",
    "from newspaper import Article\n",
    "import torch\n",
    "from transformers import AutoTokenizer, AutoModelForSeq2SeqLM, pipeline\n",
    "import re\n",
    "from dotenv import load_dotenv\n",
    "import os"
   ]
  },
  {
   "cell_type": "markdown",
   "id": "f3adfcfb",
   "metadata": {},
   "source": [
    "Step 1: Scrape the news article"
   ]
  },
  {
   "cell_type": "code",
   "execution_count": 2,
   "id": "d3ce6e94",
   "metadata": {},
   "outputs": [],
   "source": [
    "def scrape_article(url):\n",
    "    article = Article(url)\n",
    "    article.download()\n",
    "    article.parse()\n",
    "    return article.text"
   ]
  },
  {
   "cell_type": "markdown",
   "id": "bcc4cd00",
   "metadata": {},
   "source": [
    "Step 2: Generate Summary"
   ]
  },
  {
   "cell_type": "code",
   "execution_count": 10,
   "id": "eeee7543",
   "metadata": {},
   "outputs": [],
   "source": [
    "device = torch.device(\"mps\" if torch.backends.mps.is_available() else \"cpu\") #For Apple Silicon Macs\n",
    "#device = torch.device(\"cuda\" if torch.cuda.is_available() else \"cpu\") # For windows users\n",
    "\n",
    "tokenizer = AutoTokenizer.from_pretrained(\"facebook/bart-large-cnn\")\n",
    "model = AutoModelForSeq2SeqLM.from_pretrained(\"facebook/bart-large-cnn\")\n",
    "model = model.to(device)"
   ]
  },
  {
   "cell_type": "code",
   "execution_count": 13,
   "id": "6fec347b",
   "metadata": {},
   "outputs": [
    {
     "name": "stderr",
     "output_type": "stream",
     "text": [
      "Device set to use mps:0\n"
     ]
    }
   ],
   "source": [
    "summarizer = pipeline(\"summarization\", model=model, tokenizer=tokenizer, device=-1)"
   ]
  },
  {
   "cell_type": "code",
   "execution_count": null,
   "id": "60cf5abf",
   "metadata": {},
   "outputs": [],
   "source": [
    "# Function to clean text\n",
    "def clean_text(text):\n",
    "    text = re.sub(r'\\s+', ' ', text).strip() #Removes the white space\n",
    "    return text\n",
    "\n",
    "def summarize_text(text):\n",
    "    cleaned_text = clean_text(text)\n",
    "    summary = summarizer(cleaned_text, max_length=150, min_length=50, do_sample=False)[0]['summary_text']\n",
    "    return summary"
   ]
  },
  {
   "cell_type": "markdown",
   "id": "9fef8d59",
   "metadata": {},
   "source": [
    "Step 3: Send generated summary to the email"
   ]
  },
  {
   "cell_type": "code",
   "execution_count": 14,
   "id": "c8f63fb3",
   "metadata": {},
   "outputs": [],
   "source": [
    "load_dotenv()  # Load variables from .env\n",
    "\n",
    "sender_email = os.getenv(\"sender_email\")\n",
    "sender_password = os.getenv(\"sender_password\")"
   ]
  },
  {
   "cell_type": "code",
   "execution_count": 12,
   "id": "c2192b72",
   "metadata": {},
   "outputs": [],
   "source": [
    "# Function to send email\n",
    "def send_email(summary, recipient_email, sender_email, sender_password):\n",
    "    try:\n",
    "        msg = MIMEText(summary)\n",
    "        msg['Subject'] = 'Article Summary'\n",
    "        msg['From'] = sender_email\n",
    "        msg['To'] = recipient_email\n",
    "\n",
    "        with smtplib.SMTP('smtp.gmail.com', 587) as server:\n",
    "            server.starttls()\n",
    "            server.login(sender_email, sender_password)\n",
    "            server.sendmail(sender_email, recipient_email, msg.as_string())\n",
    "        return True\n",
    "    except Exception as e:\n",
    "        return f\"Error sending email: {str(e)}\""
   ]
  },
  {
   "cell_type": "code",
   "execution_count": 18,
   "id": "957a50a2",
   "metadata": {},
   "outputs": [],
   "source": [
    "url = \"https://timesofindia.indiatimes.com/city/srinagar/jaw-broken-spine-injured-spicejet-staff-attacked-by-passenger-at-srinagar-airport/articleshow/123073510.cms\"\n",
    "#Step 1 : Scrape the article\n",
    "article_text = scrape_article(url)\n",
    "\n",
    "#Step 2: Generate Summary\n",
    "summary = summarize_text(article_text)\n",
    "\n",
    "#Step 3: Send generated summary to the email\n",
    "recipient_email = \"tusharrohilla70@gmail.com\"\n",
    "email_sent = send_email(summary, recipient_email, sender_email, sender_password)"
   ]
  }
 ],
 "metadata": {
  "kernelspec": {
   "display_name": "ai-web-search-agent",
   "language": "python",
   "name": "python3"
  },
  "language_info": {
   "codemirror_mode": {
    "name": "ipython",
    "version": 3
   },
   "file_extension": ".py",
   "mimetype": "text/x-python",
   "name": "python",
   "nbconvert_exporter": "python",
   "pygments_lexer": "ipython3",
   "version": "3.12.11"
  }
 },
 "nbformat": 4,
 "nbformat_minor": 5
}
